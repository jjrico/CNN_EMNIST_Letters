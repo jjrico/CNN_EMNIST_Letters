{
 "cells": [
  {
   "cell_type": "markdown",
   "metadata": {
    "colab_type": "text",
    "id": "YfvBLWyfcXng"
   },
   "source": [
    "# CNN Project Version 3.0\n",
    "## Handwritten Character Recognition with a Convolutional Neural Network\n",
    "\n",
    "### Jeremy Rico; jjrico@csu.fullerton.edu\n",
    "\n",
    "This program uses as a Convolutional Artifical Neural Network with one hidden layer to predict the identity of handwritten characters of all 26 letters of the english alphabet.\n",
    "\n",
    "Dataset: EMNIST Letters - contains 145,600 28x28px images of handwritten characters divided into 26 classes. The dataset is divided into 108,000 training samples, 20,800 validation samples, and 20,800 test samples. More information about the dataset can be found here: https://www.nist.gov/itl/products-and-services/emnist-dataset\n",
    "\n",
    "This project utilizes the tf.keras module of TensorFlow to create, train, and test the neural network.\n",
    "\n",
    "TO RUN: We reccommend running this program on a cloud GPU such as Google Colab GPU here: https://colab.research.google.com/notebooks/gpu.ipynb. The EMNIST dataset must be downloaded here https://www.nist.gov/itl/products-and-services/emnist-dataset and then uploaded to Google Colab for the program to run properly. Therefore, the directory in block five may have to be altered to fit your local running environment."
   ]
  },
  {
   "cell_type": "markdown",
   "metadata": {
    "colab_type": "text",
    "id": "TE3zdRmOdGnj"
   },
   "source": [
    "##Data import and manipulation"
   ]
  },
  {
   "cell_type": "code",
   "execution_count": 125,
   "metadata": {
    "colab": {
     "base_uri": "https://localhost:8080/",
     "height": 52
    },
    "colab_type": "code",
    "id": "WbDYDrLKR8z1",
    "outputId": "48bff13d-7dfd-4476-ebef-0d35232a5246"
   },
   "outputs": [
    {
     "name": "stdout",
     "output_type": "stream",
     "text": [
      "(104000, 784)\n",
      "(20800, 784)\n"
     ]
    }
   ],
   "source": [
    "%matplotlib inline\n",
    "import matplotlib.pyplot as plt\n",
    "from __future__ import print_function\n",
    "from scipy import io as sio\n",
    "import keras\n",
    "from keras.datasets import mnist\n",
    "from keras.models import Sequential\n",
    "from keras.layers import Dense, Dropout, Flatten\n",
    "from keras.layers import Conv2D, MaxPooling2D\n",
    "from keras import backend as K\n",
    "\n",
    "# define vars\n",
    "batch_size = 128\n",
    "layer1_neurons = 256\n",
    "layer2_neurons = 512\n",
    "num_classes = 26\n",
    "epochs = 20\n",
    "\n",
    "# input image dimensions\n",
    "img_rows, img_cols = 28, 28\n",
    "\n",
    "# the data, split between train and test sets\n",
    "# drive.mount('/content/drive')\n",
    "mat_contents = sio.loadmat('/content/emnist-letters.mat')\n",
    "data = mat_contents['dataset']\n",
    "\n",
    "# Extract training and test data using given labels\n",
    "x_train = data['train'][0,0]['images'][0,0]\n",
    "y_train = data['train'][0,0]['labels'][0,0]\n",
    "x_test = data['test'][0,0]['images'][0,0]\n",
    "y_test = data['test'][0,0]['labels'][0,0]\n",
    "\n",
    "# Divide training samples into training and validation\n",
    "val_start = x_train.shape[0] - x_test.shape[0]\n",
    "x_val = x_train[val_start:x_train.shape[0],:]\n",
    "y_val = y_train[val_start:x_train.shape[0]]\n",
    "x_train = x_train[0:val_start,:]\n",
    "y_train = y_train[0:val_start]\n",
    "\n",
    "# Convert class range from 1-27 to 0-26\n",
    "y_train -= 1\n",
    "y_val -= 1\n",
    "y_test -=1\n",
    "\n",
    "print(x_train.shape)\n",
    "print(x_val.shape)"
   ]
  },
  {
   "cell_type": "markdown",
   "metadata": {
    "colab_type": "text",
    "id": "0gvo5e2mdKd6"
   },
   "source": [
    "## Reshaping and regularization"
   ]
  },
  {
   "cell_type": "code",
   "execution_count": 126,
   "metadata": {
    "colab": {
     "base_uri": "https://localhost:8080/",
     "height": 86
    },
    "colab_type": "code",
    "id": "wByF-g9lSrX8",
    "outputId": "4d7c92d0-0d81-4304-ac8f-5fa546266a00"
   },
   "outputs": [
    {
     "name": "stdout",
     "output_type": "stream",
     "text": [
      "x_train shape: (104000, 28, 28, 1)\n",
      "104000 train samples\n",
      "20800 validation samples\n",
      "20800 test samples\n"
     ]
    }
   ],
   "source": [
    "# Reshape data from input to ANN\n",
    "if K.image_data_format() == 'channels_first':\n",
    "    x_train = x_train.reshape(x_train.shape[0], 1, img_rows, img_cols)\n",
    "    x_val = x_val.reshape(x_train.val[0], 1, img_rows, img_cols)\n",
    "    x_test = x_test.reshape(x_test.shape[0], 1, img_rows, img_cols)\n",
    "    input_shape = (1, img_rows, img_cols)\n",
    "else:\n",
    "    x_train = x_train.reshape(x_train.shape[0], img_rows, img_cols, 1)\n",
    "    x_val = x_val.reshape(x_val.shape[0], img_rows, img_cols, 1)\n",
    "    x_test = x_test.reshape(x_test.shape[0], img_rows, img_cols, 1)\n",
    "    input_shape = (img_rows, img_cols, 1)\n",
    "\n",
    "# Regularize Data\n",
    "x_train = x_train.astype('float32')\n",
    "x_val = x_val.astype('float32')\n",
    "x_test = x_test.astype('float32')\n",
    "x_train /= 255\n",
    "x_val /= 255\n",
    "x_test /= 255\n",
    "\n",
    "# convert class vectors to binary class matrices\n",
    "y_train = keras.utils.to_categorical(y_train, num_classes)\n",
    "y_val = keras.utils.to_categorical(y_val, num_classes)\n",
    "y_test = keras.utils.to_categorical(y_test, num_classes)\n",
    "\n",
    "print('x_train shape:', x_train.shape)\n",
    "print(x_train.shape[0], 'train samples')\n",
    "print(x_val.shape[0], 'validation samples')\n",
    "print(x_test.shape[0], 'test samples')"
   ]
  },
  {
   "cell_type": "markdown",
   "metadata": {
    "colab_type": "text",
    "id": "0jMin1wGdQp3"
   },
   "source": [
    "## Model Initialization"
   ]
  },
  {
   "cell_type": "code",
   "execution_count": null,
   "metadata": {
    "colab": {},
    "colab_type": "code",
    "id": "TQAm1wh9TWP3"
   },
   "outputs": [],
   "source": [
    "# Define Model\n",
    "model = Sequential()\n",
    "model.add(Conv2D(32, kernel_size=(3, 3),\n",
    "                 activation='relu',\n",
    "                 input_shape=input_shape))\n",
    "model.add(Conv2D(layer1_neurons, (3, 3), activation='relu'))\n",
    "model.add(MaxPooling2D(pool_size=(2, 2)))\n",
    "model.add(Dropout(0.25))\n",
    "model.add(Flatten())\n",
    "model.add(Dense(layer2_neurons, activation='relu'))\n",
    "model.add(Dropout(0.5))\n",
    "model.add(Dense(num_classes, activation='softmax'))"
   ]
  },
  {
   "cell_type": "markdown",
   "metadata": {
    "colab_type": "text",
    "id": "IJci4WTudTKc"
   },
   "source": [
    "## Compilation and Training"
   ]
  },
  {
   "cell_type": "code",
   "execution_count": 128,
   "metadata": {
    "colab": {
     "base_uri": "https://localhost:8080/",
     "height": 749
    },
    "colab_type": "code",
    "id": "QkpmwCmZTvX8",
    "outputId": "45c9319b-51a4-4d60-825c-f42b11e616aa"
   },
   "outputs": [
    {
     "name": "stdout",
     "output_type": "stream",
     "text": [
      "Train on 104000 samples, validate on 20800 samples\n",
      "Epoch 1/20\n",
      "104000/104000 [==============================] - 18s 175us/step - loss: 0.6149 - accuracy: 0.8104 - val_loss: 0.2652 - val_accuracy: 0.9164\n",
      "Epoch 2/20\n",
      "104000/104000 [==============================] - 18s 173us/step - loss: 0.2979 - accuracy: 0.9033 - val_loss: 0.2288 - val_accuracy: 0.9251\n",
      "Epoch 3/20\n",
      "104000/104000 [==============================] - 18s 173us/step - loss: 0.2404 - accuracy: 0.9201 - val_loss: 0.2119 - val_accuracy: 0.9316\n",
      "Epoch 4/20\n",
      "104000/104000 [==============================] - 18s 174us/step - loss: 0.2098 - accuracy: 0.9301 - val_loss: 0.1975 - val_accuracy: 0.9349\n",
      "Epoch 5/20\n",
      "104000/104000 [==============================] - 18s 174us/step - loss: 0.1857 - accuracy: 0.9360 - val_loss: 0.2016 - val_accuracy: 0.9351\n",
      "Epoch 6/20\n",
      "104000/104000 [==============================] - 18s 173us/step - loss: 0.1658 - accuracy: 0.9422 - val_loss: 0.1992 - val_accuracy: 0.9388\n",
      "Epoch 7/20\n",
      "104000/104000 [==============================] - 18s 173us/step - loss: 0.1521 - accuracy: 0.9453 - val_loss: 0.1865 - val_accuracy: 0.9425\n",
      "Epoch 8/20\n",
      "104000/104000 [==============================] - 18s 173us/step - loss: 0.1389 - accuracy: 0.9492 - val_loss: 0.1933 - val_accuracy: 0.9415\n",
      "Epoch 9/20\n",
      "104000/104000 [==============================] - 18s 173us/step - loss: 0.1262 - accuracy: 0.9538 - val_loss: 0.2020 - val_accuracy: 0.9420\n",
      "Epoch 10/20\n",
      "104000/104000 [==============================] - 18s 174us/step - loss: 0.1196 - accuracy: 0.9559 - val_loss: 0.1917 - val_accuracy: 0.9424\n",
      "Epoch 11/20\n",
      "104000/104000 [==============================] - 18s 175us/step - loss: 0.1100 - accuracy: 0.9589 - val_loss: 0.2044 - val_accuracy: 0.9428\n",
      "Epoch 12/20\n",
      "104000/104000 [==============================] - 18s 173us/step - loss: 0.1031 - accuracy: 0.9606 - val_loss: 0.1906 - val_accuracy: 0.9389\n",
      "Epoch 13/20\n",
      "104000/104000 [==============================] - 18s 173us/step - loss: 0.0990 - accuracy: 0.9622 - val_loss: 0.2089 - val_accuracy: 0.9418\n",
      "Epoch 14/20\n",
      "104000/104000 [==============================] - 18s 174us/step - loss: 0.0929 - accuracy: 0.9641 - val_loss: 0.2178 - val_accuracy: 0.9433\n",
      "Epoch 15/20\n",
      "104000/104000 [==============================] - 18s 173us/step - loss: 0.0883 - accuracy: 0.9652 - val_loss: 0.2060 - val_accuracy: 0.9431\n",
      "Epoch 16/20\n",
      "104000/104000 [==============================] - 18s 174us/step - loss: 0.0825 - accuracy: 0.9674 - val_loss: 0.2113 - val_accuracy: 0.9400\n",
      "Epoch 17/20\n",
      "104000/104000 [==============================] - 18s 174us/step - loss: 0.0785 - accuracy: 0.9688 - val_loss: 0.2395 - val_accuracy: 0.9458\n",
      "Epoch 18/20\n",
      "104000/104000 [==============================] - 18s 173us/step - loss: 0.0767 - accuracy: 0.9698 - val_loss: 0.2125 - val_accuracy: 0.9422\n",
      "Epoch 19/20\n",
      "104000/104000 [==============================] - 18s 173us/step - loss: 0.0751 - accuracy: 0.9701 - val_loss: 0.2316 - val_accuracy: 0.9410\n",
      "Epoch 20/20\n",
      "104000/104000 [==============================] - 18s 173us/step - loss: 0.0719 - accuracy: 0.9710 - val_loss: 0.2315 - val_accuracy: 0.9430\n"
     ]
    }
   ],
   "source": [
    "# Compile model\n",
    "model.compile(loss=keras.losses.categorical_crossentropy,\n",
    "              optimizer=keras.optimizers.Adadelta(),\n",
    "              metrics=['accuracy'])\n",
    "\n",
    "# Train model\n",
    "history = model.fit(x_train, y_train,\n",
    "                    batch_size=batch_size,\n",
    "                    epochs=epochs,\n",
    "                    verbose=1,\n",
    "                    validation_data=(x_val, y_val))"
   ]
  },
  {
   "cell_type": "markdown",
   "metadata": {
    "colab_type": "text",
    "id": "REqVowGMdWma"
   },
   "source": [
    "## Model Testing"
   ]
  },
  {
   "cell_type": "code",
   "execution_count": 123,
   "metadata": {
    "colab": {
     "base_uri": "https://localhost:8080/",
     "height": 52
    },
    "colab_type": "code",
    "id": "klBAH_skTy6f",
    "outputId": "167cb9ef-37e7-4eec-b28c-14f8b6a7d4f2"
   },
   "outputs": [
    {
     "name": "stdout",
     "output_type": "stream",
     "text": [
      "Test loss: 0.4080375210872754\n",
      "Test accuracy: 0.9340865612030029\n"
     ]
    }
   ],
   "source": [
    "# Print final test scores\n",
    "score = model.evaluate(x_test, y_test, verbose=0)\n",
    "print('Test loss:', score[0])\n",
    "print('Test accuracy:', score[1])"
   ]
  },
  {
   "cell_type": "markdown",
   "metadata": {
    "colab_type": "text",
    "id": "A8X2mMjadaAY"
   },
   "source": [
    "## Plots of accuracy and loss for each epoch"
   ]
  },
  {
   "cell_type": "code",
   "execution_count": 124,
   "metadata": {
    "colab": {
     "base_uri": "https://localhost:8080/",
     "height": 573
    },
    "colab_type": "code",
    "id": "8FNbOPsva6wy",
    "outputId": "0bfe3644-493e-4754-f484-5818e5443e77"
   },
   "outputs": [
    {
     "data": {
      "image/png": "[encoded data removed]",
      "text/plain": [
       "<Figure size 432x288 with 1 Axes>"
      ]
     },
     "metadata": {
      "needs_background": "light",
      "tags": []
     },
     "output_type": "display_data"
    },
    {
     "data": {
      "image/png": "[encoded data removed]",
      "text/plain": [
       "<Figure size 432x288 with 1 Axes>"
      ]
     },
     "metadata": {
      "needs_background": "light",
      "tags": []
     },
     "output_type": "display_data"
    }
   ],
   "source": [
    "# Plot training & validation accuracy values\n",
    "plt.plot(history.history['accuracy'])\n",
    "plt.plot(history.history['val_accuracy'])\n",
    "plt.title('Model accuracy')\n",
    "plt.ylabel('Accuracy')\n",
    "plt.xlabel('Epoch')\n",
    "plt.legend(['Train', 'Test'], loc='upper left')\n",
    "plt.show()\n",
    "\n",
    "# Plot training & validation loss values\n",
    "plt.plot(history.history['loss'])\n",
    "plt.plot(history.history['val_loss'])\n",
    "plt.title('Model loss')\n",
    "plt.ylabel('Loss')\n",
    "plt.xlabel('Epoch')\n",
    "plt.legend(['Train', 'Test'], loc='upper left')\n",
    "plt.show()"
   ]
  },
  {
   "cell_type": "markdown",
   "metadata": {
    "colab_type": "text",
    "id": "oWVuLpEndfoD"
   },
   "source": [
    "## Review and Conclusion"
   ]
  },
  {
   "cell_type": "markdown",
   "metadata": {
    "colab_type": "text",
    "id": "VvTz3JCxduRW"
   },
   "source": [
    "1. Modify the code to apply the same convolutional network architecture to the EMNIST Letters dataset. How does the accuracy compare to its peformance on MNIST? How does the accuracy compare to the MLP you trained in Project 2?\n",
    "\n",
    "A: The mnist_cnn.py file states it was able to obtain an accuracy of 99.25% after 12 epochs. Our model was slightly less efficient. It reached an accuracy of about 93% after 12 epochs. This could be due to the increased size of the emnist dataset. Also We are trying to predict across 26 classes instead of just 10. Our project 1 was only able reach an accuracy of 90.02% with 20 epochs. However, project one ran slightly faster and was less computationaly intense.\n",
    "\n",
    "2. Now that you have a baseline convolutional network for comparison, begin experimenting with alternative architectures, optimizers, and hyperparameters for the EMNIST Letters dataset. How much can you improve the accuracy over Project 2?\n",
    "\n",
    "A: Our highest accuracy with project 1 was 90.02% with 20 epochs. We were able to improve that to 99.89% with 100 epochs, 512 neurons in layer 1, and 1024 neurons in layer 2. The CNN was much more time consuming and computationaly intense.\n",
    "\n",
    "3. Recall that EMNIST Letters merges upper- and lowercase letters into the same class, even when they look very different. How might you design a network that accounts for that difference?\n",
    "\n",
    "A: EMNIST includes datasets where the upper and lowercase letters are divided. However, since some characters hace the same upper and lowercase shape (C c, K k, O o, etc.), they can be grouped into the same class. Using these datasets we could train a new CNN with 37 output neurons. This would be able to recognize all upper and lowercase characters."
   ]
  },
  {
   "cell_type": "markdown",
   "metadata": {
    "colab_type": "text",
    "id": "iimm0bnxdxLk"
   },
   "source": [
    "## Test Results\n",
    "\n",
    "| Epochs | Batch Size | Hidden Layer 1| Hidden Layer 2 | Accuracy | time/epoch |\n",
    "|--------|------------|---------------|----------------|----------|--------------|\n",
    "|5       |128         |64             |128             | 93.05%   | 5s           |\n",
    "|10      |128         |64             |128             | 93.72%   | 5s           |\n",
    "|15      |128         |64             |128             | 93.62%   | 5s           |\n",
    "|20      |128         |64             |128             | 93.54%   | 5s           |\n",
    "|5       |128         |128            |256             | 92.52%   | 7s           |\n",
    "|10      |128         |128            |256             | 94.41%   | 7s           |\n",
    "|15      |128         |128            |256             | 95.40%   | 7s           |\n",
    "|20      |128         |128            |256             | 95.54%   | 7s           |\n",
    "|5       |128         |256            |512             | 92.52%   | 12s          |\n",
    "|10      |128         |256            |512             | 94.41%   | 12s          |\n",
    "|15      |128         |256            |512             | 95.40%   | 12s          |\n",
    "|20      |128         |256            |512             | 95.54%   | 12s          |\n",
    "|5       |128         |512            |1024            | 93.84%   | 18s          |\n",
    "|10      |128         |512            |1024            | 95.76%   | 18s          |\n",
    "|15      |128         |512            |1024            | 96.75%   | 18s          |\n",
    "|20      |128         |512            |1024            | 97.18%   | 18s          |\n",
    "|100     |128         |512            |1024            | 98.90%   | 18s          |"
   ]
  },
  {
   "cell_type": "code",
   "execution_count": null,
   "metadata": {
    "colab": {},
    "colab_type": "code",
    "id": "S6SUpYdAdvgZ"
   },
   "outputs": [],
   "source": []
  }
 ],
 "metadata": {
  "accelerator": "GPU",
  "colab": {
   "collapsed_sections": [],
   "name": "Project3_V3.ipynb",
   "provenance": []
  },
  "kernelspec": {
   "display_name": "Python 3",
   "language": "python",
   "name": "python3"
  },
  "language_info": {
   "codemirror_mode": {
    "name": "ipython",
    "version": 3
   },
   "file_extension": ".py",
   "mimetype": "text/x-python",
   "name": "python",
   "nbconvert_exporter": "python",
   "pygments_lexer": "ipython3",
   "version": "3.7.6"
  }
 },
 "nbformat": 4,
 "nbformat_minor": 4
}
